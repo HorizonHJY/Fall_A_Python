{
 "cells": [
  {
   "cell_type": "markdown",
   "metadata": {},
   "source": [
    "*Reminder: For each question below, provide solutions using both your own code and ChatGPT's code. To get the ChatGPT solution, simply copy the question, paste it into ChatGPT, and then share the resulting code. However, when it comes to your own solution, you must write the code independently.*"
   ]
  },
  {
   "cell_type": "markdown",
   "metadata": {},
   "source": [
    "# Conditionals\n",
    "\n",
    "Check if the x is perfect square.  If it is, print \"x is a perfect square\".  If not print \"x is not a perfect square\"."
   ]
  },
  {
   "cell_type": "code",
   "execution_count": 2,
   "metadata": {},
   "outputs": [
    {
     "name": "stdout",
     "output_type": "stream",
     "text": [
      "4\n",
      "24is not perfect \n"
     ]
    }
   ],
   "source": [
    "#Write your code here\n",
    "x = 25\n",
    "\n",
    "float_sqrt= x**0.5\n",
    "int_sqrt = int(x**0.5)\n",
    "if float_sqrt == int_sqrt:\n",
    "    print(str(x) + ' is perfict')\n",
    "else:\n",
    "    print(str(x) + 'is not perfect ')"
   ]
  },
  {
   "cell_type": "code",
   "execution_count": null,
   "metadata": {},
   "outputs": [],
   "source": [
    "#Paste ChatGPT code here\n",
    "import math\n",
    "\n",
    "# Input number\n",
    "x = int(input(\"Enter a number: \"))\n",
    "\n",
    "# Check if x is a perfect square\n",
    "if math.isqrt(x) ** 2 == x:\n",
    "    print(f\"{x} is a perfect square\")\n",
    "else:\n",
    "    print(f\"{x} is not a perfect square\")\n"
   ]
  },
  {
   "cell_type": "markdown",
   "metadata": {},
   "source": [
    "Create a list L of arbitrary length. Get the median.\n"
   ]
  },
  {
   "cell_type": "code",
   "execution_count": 15,
   "metadata": {},
   "outputs": [
    {
     "name": "stdout",
     "output_type": "stream",
     "text": [
      "12\n"
     ]
    }
   ],
   "source": [
    "#Write your code here\n",
    "L = [213, 123, 21, 2, 12, 11, 7]\n",
    "sorted_list = sorted(L)\n",
    "#print(sorted_list)\n",
    "list_length = len(L)\n",
    "if list_length % 2 == 0:\n",
    "    median = (sorted_list[int(list_length/2)]+ sorted_list[int(list_length/2) + 1])/2\n",
    "else:\n",
    "    median = sorted_list[int(list_length/2)]\n",
    "\n",
    "print(median)\n"
   ]
  },
  {
   "cell_type": "code",
   "execution_count": null,
   "metadata": {},
   "outputs": [],
   "source": [
    "#Paste ChatGPT code here\n",
    "# 创建一个任意长度的列表\n",
    "L = [213, 123, 21, 2, 12, 11, 7, 9, 5]\n",
    "\n",
    "# 对列表进行排序\n",
    "sorted_list = sorted(L)\n",
    "\n",
    "# 计算列表的长度\n",
    "list_length = len(sorted_list)\n",
    "\n",
    "# 获取中位数\n",
    "if list_length % 2 == 0:\n",
    "    # 如果列表长度为偶数，取中间两个数的平均值\n",
    "    median = (sorted_list[list_length // 2 - 1] + sorted_list[list_length // 2]) / 2\n",
    "else:\n",
    "    # 如果列表长度为奇数，直接取中间的数\n",
    "    median = sorted_list[list_length // 2]\n",
    "\n",
    "# 打印中位数\n",
    "print(\"Median:\", median)\n"
   ]
  },
  {
   "cell_type": "markdown",
   "metadata": {},
   "source": [
    "If there are fewer than 10 students in the class, then the top three students get an  A and the rest get a B.  Otherwise, the grade breakdown is as follows:\n",
    "\n",
    "- A: 90-100\n",
    "- B: 80-89\n",
    "- C: 70 - 79\n",
    "- D: 65 - 69\n",
    "- Failing: Below 65\n",
    "\n",
    "Given the list of grades in grades_list, print the grade received by the last student in this list. So if we have\n",
    "\n",
    "    grade_list = [50, 90, 91, 88, 75]\n",
    "\n",
    "we want to print the grade received by the student who received a 75. In this case it would be a B.\n",
    "\n"
   ]
  },
  {
   "cell_type": "code",
   "execution_count": 28,
   "metadata": {},
   "outputs": [
    {
     "name": "stdout",
     "output_type": "stream",
     "text": [
      "[50, 75, 88, 90, 91]\n",
      "B\n"
     ]
    }
   ],
   "source": [
    "#Write your code here\n",
    "grade_list = [50, 90, 91, 88, 75]\n",
    "last_grade = grade_list[-1]\n",
    "sorted_list = sorted(grade_list)\n",
    "\n",
    "last_grade = 75\n",
    "grading_map = {\n",
    "    \"A\": (90, 100),\n",
    "    \"B\": (80, 89),\n",
    "    \"C\": (70, 79),\n",
    "    \"D\": (65, 69),\n",
    "    \"Fail\": (0, 64)\n",
    "}\n",
    "sorted_grades = sorted(grade_list)\n",
    "# print(sorted_grades)\n",
    "# print(len(grade_list))\n",
    "# print(sorted_list[0:3])\n",
    "if len(grade_list) < 10:\n",
    "    if  last_grade in sorted_grades[3:]:\n",
    "        print(\"A\")\n",
    "    else:\n",
    "        print(\"B\")\n",
    "else:\n",
    "    for grade, (min_val, max_val) in grading_map.items():\n",
    "        if min_val <= last_grade <= max_val:\n",
    "            print(grade)\n",
    "            break\n",
    "        "
   ]
  },
  {
   "cell_type": "code",
   "execution_count": 20,
   "metadata": {},
   "outputs": [
    {
     "name": "stdout",
     "output_type": "stream",
     "text": [
      "The grade received by the last student is: B\n"
     ]
    }
   ],
   "source": [
    "#Paste ChatGPT code here\n",
    "# 定义成绩列表\n",
    "grade_list = [50, 90, 91, 88, 75]\n",
    "\n",
    "# 获取最后一名学生的成绩\n",
    "last_grade = grade_list[-1]\n",
    "\n",
    "# 班级人数少于10时的情况\n",
    "if len(grade_list) < 10:\n",
    "    # 前三名得A，其他得B\n",
    "    grade_list.sort(reverse=True)\n",
    "    if last_grade in grade_list[:3]:\n",
    "        grade = 'A'\n",
    "    else:\n",
    "        grade = 'B'\n",
    "else:\n",
    "    # 根据分数划分等级\n",
    "    if 90 <= last_grade <= 100:\n",
    "        grade = 'A'\n",
    "    elif 80 <= last_grade < 90:\n",
    "        grade = 'B'\n",
    "    elif 70 <= last_grade < 80:\n",
    "        grade = 'C'\n",
    "    elif 65 <= last_grade < 70:\n",
    "        grade = 'D'\n",
    "    else:\n",
    "        grade = 'F'\n",
    "\n",
    "# 打印最后一名学生的成绩等级\n",
    "print(f\"The grade received by the last student is: {grade}\")\n"
   ]
  },
  {
   "cell_type": "markdown",
   "metadata": {},
   "source": [
    "# For Loops\n",
    "\n",
    "Count the number of n's in your name (lower and uppercase count)"
   ]
  },
  {
   "cell_type": "code",
   "execution_count": 16,
   "metadata": {},
   "outputs": [
    {
     "name": "stdout",
     "output_type": "stream",
     "text": [
      "there is 2 n or N in your name\n",
      "there is 9 lower characters and 2 upper characters in your name.\n"
     ]
    }
   ],
   "source": [
    "#Write your code here\n",
    "name = \"Horizon Yuan\"\n",
    "\n",
    "count_n = 0 \n",
    "for i in name:\n",
    "    if i in ['n','N']:\n",
    "        count_n += 1\n",
    "print(f\"there is {count_n} n or N in your name\")\n",
    "\n",
    "lower_num = 0\n",
    "upper_num = 0\n",
    "\n",
    "for char in name:\n",
    "    if char.isupper():\n",
    "        upper_num += 1\n",
    "    elif char.islower():\n",
    "        lower_num +=1\n",
    "print(f\"there is {lower_num} lower characters and {upper_num} upper characters in your name.\")    \n",
    "\n",
    "    \n",
    "        \n",
    "\n",
    "\n"
   ]
  },
  {
   "cell_type": "code",
   "execution_count": 32,
   "metadata": {},
   "outputs": [
    {
     "name": "stdout",
     "output_type": "stream",
     "text": [
      "Lowercase 'n' count: 1\n",
      "Uppercase 'N' count: 0\n",
      "Total 'n' count: 1\n"
     ]
    }
   ],
   "source": [
    "#Paste ChatGPT code here\n",
    "# 输入名字\n",
    "name = input(\"Enter your name: \")\n",
    "\n",
    "# 计算小写和大写 'n' 的数量\n",
    "lowercase_n_count = name.count('n')\n",
    "uppercase_n_count = name.count('N')\n",
    "\n",
    "# 总的 'n' 数量\n",
    "total_n_count = lowercase_n_count + uppercase_n_count\n",
    "\n",
    "# 打印结果\n",
    "print(f\"Lowercase 'n' count: {lowercase_n_count}\")\n",
    "print(f\"Uppercase 'N' count: {uppercase_n_count}\")\n",
    "print(f\"Total 'n' count: {total_n_count}\")\n"
   ]
  },
  {
   "cell_type": "markdown",
   "metadata": {},
   "source": [
    "Get all of the factors of a number and store them in a list"
   ]
  },
  {
   "cell_type": "code",
   "execution_count": 5,
   "metadata": {},
   "outputs": [],
   "source": [
    "#Write your code here\n",
    "n = 6 # [1, 2, 3, 6]\n",
    "\n",
    "factors = []\n",
    "\n",
    "for i in range(1,n+1):\n",
    "    factors = factors +[i]\n",
    "\n"
   ]
  },
  {
   "cell_type": "code",
   "execution_count": null,
   "metadata": {},
   "outputs": [],
   "source": [
    "#Paste ChatGPT code here\n"
   ]
  },
  {
   "cell_type": "markdown",
   "metadata": {},
   "source": [
    "Generate the first N numbers of the Fibonacci sequence where \n",
    "\n",
    "$a_0 = 1$\n",
    "\n",
    "$a_1=1$\n",
    "\n",
    "$a_n = a_{n-1} + a_{n-2}$"
   ]
  },
  {
   "cell_type": "code",
   "execution_count": 11,
   "metadata": {},
   "outputs": [
    {
     "name": "stdout",
     "output_type": "stream",
     "text": [
      "[1, 1]\n",
      "[1, 1, 2]\n",
      "[1, 1, 2, 3]\n",
      "[1, 1, 2, 3, 5]\n",
      "[1, 1, 2, 3, 5, 8]\n",
      "[1, 1, 2, 3, 5, 8, 13]\n",
      "[1, 1, 2, 3, 5, 8, 13, 21]\n",
      "[1, 1, 2, 3, 5, 8, 13, 21, 34]\n"
     ]
    }
   ],
   "source": [
    "#Write your code here\n",
    "n = 10\n",
    "\n",
    "fib = [1,1]\n",
    "\n",
    "for i in range(n-2):\n",
    "    back_one = fib[-1]\n",
    "    back_two = fib[-2]\n",
    "    print(fib)\n",
    "\n",
    "    next_num = back_one + back_two\n",
    "    fib += [next_num]\n",
    "for num in fib:\n",
    "    print(num)"
   ]
  },
  {
   "cell_type": "code",
   "execution_count": null,
   "metadata": {},
   "outputs": [],
   "source": [
    "#Paste ChatGPT code here\n",
    "# 定义生成前N个斐波那契数列\n",
    "n = 10\n",
    "\n",
    "# 斐波那契数列的前两个数字\n",
    "fib = [1, 1]\n",
    "\n",
    "# 使用循环生成斐波那契数列的后续数字\n",
    "for i in range(2, n):\n",
    "    next_fib = fib[-1] + fib[-2]  # 下一个数是前两个数的和\n",
    "    fib.append(next_fib)\n",
    "\n",
    "# 打印前N个斐波那契数\n",
    "print(fib)"
   ]
  },
  {
   "cell_type": "markdown",
   "metadata": {},
   "source": [
    "Compute the dot product of lists l1 and l2. **This is an example where iterating over the index is better than over the elements themselves**\n"
   ]
  },
  {
   "cell_type": "code",
   "execution_count": 40,
   "metadata": {},
   "outputs": [
    {
     "name": "stdout",
     "output_type": "stream",
     "text": [
      "947\n"
     ]
    }
   ],
   "source": [
    "#Write your code here\n",
    "l1 = [2, 3, 4, 5, 6, 1, 90]\n",
    "l2 = [3, 1, 5, 1, 2, 1, 10]\n",
    "\n",
    "num_elemetns = len(l1)\n",
    "\n",
    "sum_prod = 0 \n",
    "\n",
    "for i in range(num_elemetns):\n",
    "    sum_prod += l1[i]*l2[i]\n",
    "print(sum_prod)\n",
    "\n"
   ]
  },
  {
   "cell_type": "code",
   "execution_count": null,
   "metadata": {},
   "outputs": [],
   "source": [
    "#Paste ChatGPT code here\n",
    "# 定义两个列表\n",
    "l1 = [2, 3, 4, 5, 6, 1, 90]\n",
    "l2 = [3, 1, 5, 1, 2, 1, 10]\n",
    "\n",
    "# 计算点积\n",
    "dot_product = sum(l1[i] * l2[i] for i in range(len(l1)))\n",
    "\n",
    "# 输出结果\n",
    "print(f\"The dot product of l1 and l2 is: {dot_product}\")\n"
   ]
  },
  {
   "cell_type": "markdown",
   "metadata": {},
   "source": [
    "Given two strings, test how many times the first string contains the second.  For example if str1 = \"**co**ding is **co**ol\" and str2 = \"co\" then output should be 2."
   ]
  },
  {
   "cell_type": "code",
   "execution_count": 66,
   "metadata": {},
   "outputs": [
    {
     "name": "stdout",
     "output_type": "stream",
     "text": [
      "14\n",
      "2\n"
     ]
    }
   ],
   "source": [
    "#Write you code here\n",
    "str1 = \"coding is cool\"\n",
    "str2 = \"co\"\n",
    "#print(len(str1))\n",
    "\n",
    "count_num = 0\n",
    "str1_sep = [str1[i:i+2] for i in range(0, len(str1), 2)]\n",
    "for i in str1_sep:\n",
    "    if str2 == str(i):\n",
    "        count_num += 1\n",
    "print(count_num)\n",
    "\n",
    "\n"
   ]
  },
  {
   "cell_type": "code",
   "execution_count": null,
   "metadata": {},
   "outputs": [],
   "source": [
    "#Paste ChatGPT code here\n",
    "# 定义两个字符串\n",
    "str1 = \"coding is cool\"\n",
    "str2 = \"co\"\n",
    "\n",
    "# 使用 count() 方法计算 str2 在 str1 中出现的次数\n",
    "count = str1.count(str2)\n",
    "\n",
    "# 输出结果\n",
    "print(f\"The string '{str2}' appears {count} times in '{str1}'\")\n"
   ]
  },
  {
   "cell_type": "markdown",
   "metadata": {},
   "source": [
    "Code up the locker brain teaser below. Print out a list of the open locker numbers. Let N be the number of lockers and students"
   ]
  },
  {
   "cell_type": "code",
   "execution_count": 11,
   "metadata": {},
   "outputs": [
    {
     "name": "stdout",
     "output_type": "stream",
     "text": [
      "Open lockers are: Num[1], Num[4], Num[9], Num[16], Num[25], Num[36], Num[49], Num[64], Num[81], Num[100\n"
     ]
    }
   ],
   "source": [
    "#Write your code here  \n",
    "N=100\n",
    "def toggle_lockers(N):\n",
    "    lockers = [0] * N\n",
    "    for student in range(1, N + 1):\n",
    "        for locker in range(student - 1, N, student):\n",
    "            lockers[locker] = 1 - lockers[locker]  \n",
    "    open_lockers = []\n",
    "    for i in range(N):\n",
    "        if lockers[i] == 1:\n",
    "            open_lockers.append(i + 1)\n",
    "    return open_lockers\n",
    "N = 100\n",
    "open_lockers = toggle_lockers(N)\n",
    "print(f\"Open lockers are: Num[{'], Num['.join(str(i) for i in open_lockers)}\")\n",
    "\n",
    "    \n"
   ]
  },
  {
   "cell_type": "markdown",
   "metadata": {},
   "source": [
    "initial[0,0,0,0,0,0]\n",
    "s=1--> [1,1,1,1,1,1]\n",
    "s=2--> [1,0,1,0,1,0]\n",
    "s=3--> [1,0,0,0,1,1]\n",
    "s=4--> [1,0,0,1,1,1]\n",
    "s=5--> [1,0,0,1,0,1]\n",
    "s=6--> [1,0,0,1,0,0]"
   ]
  },
  {
   "cell_type": "code",
   "execution_count": 6,
   "metadata": {},
   "outputs": [
    {
     "name": "stdout",
     "output_type": "stream",
     "text": [
      "Open lockers: [1, 4, 9, 16, 25, 36, 49, 64, 81, 100]\n"
     ]
    }
   ],
   "source": [
    "#Paste ChatGPT code here\n",
    "# 定义 N 为学生和锁柜的数量\n",
    "N = 100\n",
    "\n",
    "# 初始化锁柜状态列表，0 表示关闭，1 表示打开\n",
    "lockers = [0] * N\n",
    "\n",
    "# 遍历每个学生\n",
    "for student in range(1, N + 1):\n",
    "    # 学生从第 student 个锁柜开始，每 student 个锁柜切换一次\n",
    "    for locker in range(student - 1, N, student):\n",
    "        lockers[locker] = 1 - lockers[locker]  # 切换锁柜状态\n",
    "\n",
    "# 输出打开的锁柜编号\n",
    "open_lockers = [i + 1 for i in range(N) if lockers[i] == 1]\n",
    "print(f\"Open lockers: {open_lockers}\")\n"
   ]
  },
  {
   "cell_type": "markdown",
   "metadata": {},
   "source": [
    "Based on the above codes:"
   ]
  },
  {
   "cell_type": "code",
   "execution_count": 96,
   "metadata": {},
   "outputs": [
    {
     "name": "stdout",
     "output_type": "stream",
     "text": [
      "\u001b[34mQestion\u001b[0m : Did Chat GPT give a similar or different code?\n",
      "\n",
      "\u001b[31mHorizon\u001b[0m : Most is different with mine, Chat GPT's code is always more shorter and efficient, \n",
      "looks like chat GPT is more familiar with python, since it knows a lot funtion or library. lol\n"
     ]
    }
   ],
   "source": [
    "print('\\033[34mQestion\\033[0m : Did Chat GPT give a similar or different code?')\n",
    "\n",
    "print(\"\\n\\033[31mHorizon\\033[0m : Most is different with mine, Chat GPT's code is always more shorter and efficient, \\nlooks like chat GPT is more familiar with python, since it knows a lot funtion or library. lol\")"
   ]
  },
  {
   "cell_type": "code",
   "execution_count": null,
   "metadata": {},
   "outputs": [],
   "source": []
  }
 ],
 "metadata": {
  "kernelspec": {
   "display_name": "Python 3 (ipykernel)",
   "language": "python",
   "name": "python3"
  },
  "language_info": {
   "codemirror_mode": {
    "name": "ipython",
    "version": 3
   },
   "file_extension": ".py",
   "mimetype": "text/x-python",
   "name": "python",
   "nbconvert_exporter": "python",
   "pygments_lexer": "ipython3",
   "version": "3.12.4"
  },
  "toc": {
   "nav_menu": {
    "height": "48px",
    "width": "252px"
   },
   "number_sections": true,
   "sideBar": true,
   "skip_h1_title": false,
   "toc_cell": false,
   "toc_position": {},
   "toc_section_display": "block",
   "toc_window_display": false
  }
 },
 "nbformat": 4,
 "nbformat_minor": 4
}
