{
 "cells": [
  {
   "cell_type": "markdown",
   "metadata": {},
   "source": [
    "*Reminder: For each question below, provide solutions using both your own code and ChatGPT's code. To get the ChatGPT solution, simply copy the question, paste it into ChatGPT, and then share the resulting code. However, when it comes to your own solution, you must write the code independently.*"
   ]
  },
  {
   "cell_type": "markdown",
   "metadata": {},
   "source": [
    "#  Numbers"
   ]
  },
  {
   "cell_type": "markdown",
   "metadata": {},
   "source": []
  },
  {
   "cell_type": "markdown",
   "metadata": {},
   "source": [
    "Compute the number of bytes in one Gigabyte (1kb = 1024 bytes, 1mb = 1024 kb, 1gb = 1024 mb)"
   ]
  },
  {
   "cell_type": "code",
   "execution_count": 2,
   "metadata": {},
   "outputs": [
    {
     "name": "stdout",
     "output_type": "stream",
     "text": [
      "1gb = 1073741824 byte\n"
     ]
    }
   ],
   "source": [
    "#Write your code here\n",
    "byte = 1\n",
    "kb = 1024 * byte\n",
    "mb = 1024 * kb\n",
    "gb = 1024 * mb\n",
    "print ('1gb = ' + str(gb) + ' byte')\n",
    "\n",
    "\n"
   ]
  },
  {
   "cell_type": "code",
   "execution_count": 4,
   "metadata": {},
   "outputs": [
    {
     "data": {
      "text/plain": [
       "1073741824"
      ]
     },
     "execution_count": 4,
     "metadata": {},
     "output_type": "execute_result"
    }
   ],
   "source": [
    "#Paste ChatGPT code here\n",
    "# We will compute the number of bytes in one Gigabyte (GB), given the following information:\n",
    "# 1 KB = 1024 bytes\n",
    "# 1 MB = 1024 KB\n",
    "# 1 GB = 1024 MB\n",
    "\n",
    "# Calculation:\n",
    "bytes_in_gb = 1024 * 1024 * 1024  # 1 GB in bytes\n",
    "bytes_in_gb\n"
   ]
  },
  {
   "cell_type": "markdown",
   "metadata": {},
   "source": [
    "You bought 500 shares of stock A at 600 dollars (for share) on day 0 and you sold it at  1000 dollars on day 700.\n",
    "The daily discount rate is 0.0001 percent. How much profit did you make in terms of net present value.\n"
   ]
  },
  {
   "cell_type": "code",
   "execution_count": 6,
   "metadata": {},
   "outputs": [
    {
     "name": "stdout",
     "output_type": "stream",
     "text": [
      "199650.12264632783\n"
     ]
    }
   ],
   "source": [
    "#Write you code here\n",
    "B_day_Value = 500 * 600\n",
    "S_day_value = 500 * 1000\n",
    "Dis_Value = S_day_value/(1 + 0.0001/100)**700\n",
    "npv = Dis_Value-B_day_Value\n",
    "print(npv)\n",
    "\n",
    "\n"
   ]
  },
  {
   "cell_type": "code",
   "execution_count": 8,
   "metadata": {},
   "outputs": [
    {
     "name": "stdout",
     "output_type": "stream",
     "text": [
      "199650.12264632783\n"
     ]
    }
   ],
   "source": [
    "#Paste ChatGPT code here\n",
    "# Given values\n",
    "initial_price_per_share = 600  # dollars\n",
    "selling_price_per_share = 1000  # dollars\n",
    "shares = 500\n",
    "days = 700\n",
    "discount_rate = 0.0001 / 100  # converting percentage to decimal\n",
    "\n",
    "# Calculating future value\n",
    "initial_value = shares * initial_price_per_share\n",
    "future_value = shares * selling_price_per_share\n",
    "\n",
    "# Net Present Value formula\n",
    "npv = future_value / (1 + discount_rate) ** days\n",
    "\n",
    "# Profit in terms of NPV\n",
    "profit_npv = npv - initial_value\n",
    "print(profit_npv)\n",
    "\n"
   ]
  },
  {
   "cell_type": "markdown",
   "metadata": {},
   "source": [
    "For any value of x, create a variable called even_check that is True if x is even and False if x is odd. "
   ]
  },
  {
   "cell_type": "code",
   "execution_count": 10,
   "metadata": {},
   "outputs": [
    {
     "name": "stdin",
     "output_type": "stream",
     "text": [
      " 12\n"
     ]
    },
    {
     "name": "stdout",
     "output_type": "stream",
     "text": [
      "True\n"
     ]
    }
   ],
   "source": [
    "#Write you code here\n",
    "try:\n",
    "    x = int(input())\n",
    "    if x % 2 == 0:\n",
    "        even_check = True\n",
    "    else:\n",
    "        even_check = False\n",
    "    print(even_check)\n",
    "except ValueError:\n",
    "    print(\"That's not an integer!\")\n"
   ]
  },
  {
   "cell_type": "code",
   "execution_count": 12,
   "metadata": {},
   "outputs": [
    {
     "name": "stdin",
     "output_type": "stream",
     "text": [
      "Please enter an integer:  12\n"
     ]
    },
    {
     "name": "stdout",
     "output_type": "stream",
     "text": [
      "True\n"
     ]
    }
   ],
   "source": [
    "#Paste ChatGPT code here\n",
    "x = int(input(\"Please enter an integer: \"))\n",
    "even_check = (x % 2 == 0)\n",
    "print(even_check)\n",
    "\n"
   ]
  },
  {
   "cell_type": "markdown",
   "metadata": {},
   "source": [
    "You have num_shirts t-shirts, num_weekday_warriors pairs of shorts and num_shoes shoes.  Create a variable called num_outfits that stores the total number of different outfits you can make."
   ]
  },
  {
   "cell_type": "code",
   "execution_count": 14,
   "metadata": {},
   "outputs": [
    {
     "name": "stdin",
     "output_type": "stream",
     "text": [
      "please enter the number for your shirts 1\n",
      "please enter the number for your warriors 1\n",
      "please enter the number for your shoes 2\n"
     ]
    },
    {
     "name": "stdout",
     "output_type": "stream",
     "text": [
      "2\n"
     ]
    }
   ],
   "source": [
    "#Write your code here\n",
    "num_shirts = int(input('please enter the number for your shirts'))\n",
    "num_weekday_warriors=int(input('please enter the number for your warriors'))\n",
    "num_shoes=int(input('please enter the number for your shoes'))\n",
    "num_outfits = num_shirts * num_weekday_warriors * num_shoes\n",
    "print(num_outfits)\n",
    "\n"
   ]
  },
  {
   "cell_type": "code",
   "execution_count": 16,
   "metadata": {},
   "outputs": [
    {
     "name": "stdin",
     "output_type": "stream",
     "text": [
      "Enter the number of t-shirts:  1\n",
      "Enter the number of pairs of shorts:  1\n",
      "Enter the number of pairs of shoes:  2\n"
     ]
    },
    {
     "name": "stdout",
     "output_type": "stream",
     "text": [
      "You can make 2 different outfits.\n"
     ]
    }
   ],
   "source": [
    "#Paste ChatGPT code here\n",
    "\n",
    "num_shirts = int(input(\"Enter the number of t-shirts: \"))\n",
    "num_weekday_warriors = int(input(\"Enter the number of pairs of shorts: \"))\n",
    "num_shoes = int(input(\"Enter the number of pairs of shoes: \"))\n",
    "\n",
    "num_outfits = num_shirts * num_weekday_warriors * num_shoes\n",
    "\n",
    "print(f\"You can make {num_outfits} different outfits.\")\n"
   ]
  },
  {
   "cell_type": "markdown",
   "metadata": {},
   "source": [
    "# String Practice\n",
    "\n",
    "Create variable called \"name\" that stores your full name. Find whether your name has an even or odd number of letters."
   ]
  },
  {
   "cell_type": "code",
   "execution_count": 20,
   "metadata": {},
   "outputs": [
    {
     "name": "stdin",
     "output_type": "stream",
     "text": [
      "enter your name:  horizon\n"
     ]
    },
    {
     "name": "stdout",
     "output_type": "stream",
     "text": [
      "your name has 7 Character, which contains odd number of letters\n"
     ]
    }
   ],
   "source": [
    "#Write your code here\n",
    "import string\n",
    "name = str(input('enter your name: '))\n",
    "number = 0\n",
    "for char in name:\n",
    "    if char in string.ascii_letters:\n",
    "        number += 1\n",
    "        reults = (number % 2 == 0)\n",
    "if reults:\n",
    "    check_results = 'even'\n",
    "else:\n",
    "    check_results = 'odd'\n",
    "print('your name has '+str(number)+ ' Character, which contains '+check_results+' number of letters')\n",
    "\n"
   ]
  },
  {
   "cell_type": "code",
   "execution_count": null,
   "metadata": {},
   "outputs": [],
   "source": [
    "#Paste ChatGPT code here\n",
    "import string\n",
    "\n",
    "# Step 1: 创建一个变量存储你的全名\n",
    "name = \"Your Full Name Here\"  # 替换为你的全名\n",
    "\n",
    "# Step 2: 计算全名中的字母数量\n",
    "number_of_letters = sum(1 for char in name if char in string.ascii_letters)\n",
    "\n",
    "# Step 3: 判断字母数量是奇数还是偶数\n",
    "if number_of_letters % 2 == 0:\n",
    "    result = \"even\"\n",
    "else:\n",
    "    result = \"odd\"\n",
    "\n",
    "# Step 4: 输出结果\n",
    "print(f\"Your name has {number_of_letters} letters, which is an {result} number of letters.\")\n",
    "\n"
   ]
  },
  {
   "cell_type": "markdown",
   "metadata": {},
   "source": [
    "Correct the following variable so it is equal to \"spammy\""
   ]
  },
  {
   "cell_type": "code",
   "execution_count": 6,
   "metadata": {},
   "outputs": [
    {
     "name": "stdout",
     "output_type": "stream",
     "text": [
      "spammy\n"
     ]
    }
   ],
   "source": [
    "#Write your code here\n",
    "import string\n",
    "s = 'spaxxy'\n",
    "s = s.replace('x','m')\n",
    "print(s)\n",
    "\n",
    "\n"
   ]
  },
  {
   "cell_type": "code",
   "execution_count": null,
   "metadata": {},
   "outputs": [],
   "source": [
    "#Paste ChatGPT code here\n",
    "s = 'spammy'"
   ]
  },
  {
   "cell_type": "markdown",
   "metadata": {},
   "source": [
    "Figure out a way to slice and combine the strings s1, s2, and s3 so that the variable consec_ints = \"123456789\"."
   ]
  },
  {
   "cell_type": "code",
   "execution_count": 22,
   "metadata": {},
   "outputs": [
    {
     "name": "stdout",
     "output_type": "stream",
     "text": [
      "123456789\n",
      "max_overlap= 0\n",
      "max_overlap= 0\n",
      "max_overlap= 3\n",
      "max_overlap= 3\n",
      "max_overlap= 3\n",
      "max_overlap= 1\n",
      "max_overlap= 1\n",
      "max_overlap= 1\n",
      "123456789\n"
     ]
    }
   ],
   "source": [
    "#Write you code here\n",
    "s1 = \"12345\"\n",
    "s2 = \"34567\"\n",
    "s3 = \"789\"\n",
    "\n",
    "\n",
    "result = s1 + s2[3:4] + s3\n",
    "print(result)  \n",
    "\n",
    "#print(len(s1))\n",
    "#complicated one\n",
    "def horizon_combine (s1, s2, s3):\n",
    "\n",
    "    def find_repeat(s1, s2):\n",
    "        max_overlap = 0\n",
    "\n",
    "        for i in range(1, min(len(s1), len(s2)) + 1):\n",
    "            # print(s1[-i:])\n",
    "            # print(s2[:i])\n",
    "            if s1[-i:] == s2[:i]:\n",
    "                max_overlap = i\n",
    "            print('max_overlap= ' + str(max_overlap))\n",
    "        return max_overlap\n",
    "    \n",
    "    repeat1 = find_repeat(s1, s2)\n",
    "    combine_s1_s2 = s1 + s2[repeat1:]\n",
    "    overlap2 = find_repeat(combine_s1_s2, s3)\n",
    "    final_result = combine_s1_s2 + s3[overlap2:]\n",
    "    return final_result\n",
    "\n",
    "consec_ints = horizon_combine(s1, s2, s3)\n",
    "print(consec_ints) "
   ]
  },
  {
   "cell_type": "code",
   "execution_count": 24,
   "metadata": {},
   "outputs": [
    {
     "name": "stdout",
     "output_type": "stream",
     "text": [
      "12345679\n"
     ]
    }
   ],
   "source": [
    "#Paste ChatGPT code here\n",
    "s1 = \"12345\"\n",
    "s2 = \"34567\"\n",
    "s3 = \"789\"\n",
    "\n",
    "# 通过切片和拼接组合字符串\n",
    "consec_ints = s1 + s2[3:] + s3[2:]\n",
    "\n",
    "print(consec_ints)  # 正确输出 \"123456789\"\n",
    "\n"
   ]
  },
  {
   "cell_type": "markdown",
   "metadata": {},
   "source": [
    "#  List Practice\n",
    "\n"
   ]
  },
  {
   "cell_type": "markdown",
   "metadata": {},
   "source": [
    "Add the first and last elements of the list L. Store the result in a variable called sum_first_last. Your code should work if I change L."
   ]
  },
  {
   "cell_type": "code",
   "execution_count": 26,
   "metadata": {},
   "outputs": [
    {
     "name": "stdout",
     "output_type": "stream",
     "text": [
      "72\n"
     ]
    }
   ],
   "source": [
    "#Write your code here\n",
    "L = [5,1,43,2,4,56,7,90,67]\n",
    "sum_first_last = L[0] + L[-1]\n",
    "print(sum_first_last)\n",
    "\n",
    "#test\n",
    "# L = [5,1,43,2,4,56,7,90,67]\n",
    "# L[0] = int(input('in put a number for first elements of list L: '))\n",
    "# L[-1] = int(input('in put a number for Last elements of list L: '))\n",
    "# sum_first_last = L[0] + L[-1]\n",
    "# print(sum_first_last)\n",
    "\n"
   ]
  },
  {
   "cell_type": "code",
   "execution_count": 28,
   "metadata": {},
   "outputs": [
    {
     "name": "stdout",
     "output_type": "stream",
     "text": [
      "72\n"
     ]
    }
   ],
   "source": [
    "#Paste ChatGPT code here\n",
    "L = [5, 1, 43, 2, 4, 56, 7, 90, 67]  # 初始化列表 L\n",
    "sum_first_last = L[0] + L[-1]  # 计算列表第一个和最后一个元素的和\n",
    "print(sum_first_last)  # 输出结果\n",
    "\n"
   ]
  },
  {
   "cell_type": "markdown",
   "metadata": {},
   "source": [
    "Slice and combine the elements of the list L in a way to print out \"spam\"."
   ]
  },
  {
   "cell_type": "code",
   "execution_count": 30,
   "metadata": {},
   "outputs": [
    {
     "name": "stdout",
     "output_type": "stream",
     "text": [
      "spam\n",
      "way2 results: spam\n"
     ]
    }
   ],
   "source": [
    "#Write your code here\n",
    "L = [1,\"s\", 2, 3, \"p\", \"a\", 34,1,\"m\", True]\n",
    "result = L[1] + L[4] + L[5] + L[8]\n",
    "print(result)\n",
    "\n",
    "\n",
    "#2nd way \n",
    "result2 = '' \n",
    "\n",
    "for i in L:\n",
    "    if type(i) == str:\n",
    "        result2 += i\n",
    "\n",
    "print('way2 results: ' + result2)\n",
    "    \n",
    "        \n",
    "\n"
   ]
  },
  {
   "cell_type": "code",
   "execution_count": 32,
   "metadata": {},
   "outputs": [
    {
     "name": "stdout",
     "output_type": "stream",
     "text": [
      "spam\n"
     ]
    }
   ],
   "source": [
    "#Paste ChatGPT code here\n",
    "\n",
    "L = [1, \"s\", 2, 3, \"p\", \"a\", 34, 1, \"m\", True]\n",
    "\n",
    "# 选择并组合需要的元素\n",
    "result = L[1] + L[4] + L[5] + L[8]\n",
    "\n",
    "print(result)  # 输出 \"spam\"\n"
   ]
  },
  {
   "cell_type": "markdown",
   "metadata": {},
   "source": [
    "Create a variable called num_L which store the number represented by the list of strings in L.  For the example num_L should be 145. You may assume 3 digit numbers."
   ]
  },
  {
   "cell_type": "code",
   "execution_count": 34,
   "metadata": {},
   "outputs": [
    {
     "name": "stdout",
     "output_type": "stream",
     "text": [
      "[1, 4, 5]\n",
      "145\n"
     ]
    }
   ],
   "source": [
    "#Write you code here\n",
    "L = [\"1\",\"4\",\"5\" ]\n",
    "\n",
    "L = list(map(int, L))\n",
    "print(L)\n",
    "Results = L[0]*100 + L[1]*10 + L[2]\n",
    "print(Results)\n"
   ]
  },
  {
   "cell_type": "code",
   "execution_count": 36,
   "metadata": {},
   "outputs": [
    {
     "name": "stdout",
     "output_type": "stream",
     "text": [
      "145\n"
     ]
    }
   ],
   "source": [
    "#Paste ChatGPT code here\n",
    "L = [\"1\", \"4\", \"5\"]\n",
    "\n",
    "# 将列表中的字符串连接起来，并转换为整数\n",
    "num_L = int(\"\".join(L))\n",
    "\n",
    "print(num_L)  # 输出 145\n",
    "\n"
   ]
  },
  {
   "cell_type": "markdown",
   "metadata": {},
   "source": [
    "Create a list L of numbers of odd length.  Complete the following tasks:\n",
    "\n",
    " - Find the median element\n",
    " - Slice out all element indexed lower than the median element"
   ]
  },
  {
   "cell_type": "code",
   "execution_count": 38,
   "metadata": {},
   "outputs": [
    {
     "name": "stdout",
     "output_type": "stream",
     "text": [
      "[2, 3, 4, 5, 6, 7, 9]\n",
      "5\n"
     ]
    }
   ],
   "source": [
    "#Write your code here\n",
    "L= [4,5,3,2,7,9,6]\n",
    "\n",
    "sorted_list = sorted(L, reverse = False)\n",
    "print(sorted_list)\n",
    "num = len(L)//2 \n",
    "print(sorted_list[num])\n",
    "\n",
    "\n",
    "\n",
    "n = len(L)\n",
    "for i in range(n):\n",
    "    for j in range(0, n-i-1):\n",
    "        if L[j] > L[j+1]:\n",
    "            L[j], L[j+1] = L[j+1], L[j]\n",
    "\n",
    "\n",
    "# #Section 2:\n",
    "\n",
    "# New_List = sorted_list[num:]\n",
    "# print(New_List)\n",
    "     \n",
    "     "
   ]
  },
  {
   "cell_type": "code",
   "execution_count": 40,
   "metadata": {},
   "outputs": [
    {
     "name": "stdout",
     "output_type": "stream",
     "text": [
      "[5, 6, 7, 9]\n"
     ]
    }
   ],
   "source": [
    "#Write your code here\n",
    "L= [4,5,3,2,7,9,6]\n",
    "\n",
    "sorted_list = sorted(L, reverse = False)\n",
    "# print(sorted_list)\n",
    "num = len(L)//2 \n",
    "# print(sorted_list[num])\n",
    "\n",
    "\n",
    "\n",
    "n = len(L)\n",
    "for i in range(n):\n",
    "    for j in range(0, n-i-1):\n",
    "        if L[j] > L[j+1]:\n",
    "            L[j], L[j+1] = L[j+1], L[j]\n",
    "\n",
    "\n",
    "# #Section 2:\n",
    "\n",
    "New_List = sorted_list[num:]\n",
    "print(New_List)\n",
    "     \n",
    "     "
   ]
  },
  {
   "cell_type": "code",
   "execution_count": 42,
   "metadata": {},
   "outputs": [
    {
     "name": "stdout",
     "output_type": "stream",
     "text": [
      "Median element: 5\n",
      "Sliced list: [5, 6, 6, 9]\n"
     ]
    }
   ],
   "source": [
    "#Paste ChatGPT code here\n",
    "\n",
    "L = [4, 5, 3, 2, 6, 6, 9]\n",
    "\n",
    "# 第一步：对列表进行排序\n",
    "sorted_L = sorted(L)\n",
    "\n",
    "# 第二步：找到中位数元素\n",
    "median_index = len(sorted_L) // 2  # 中间元素的索引\n",
    "median_element = sorted_L[median_index]  # 中位数元素\n",
    "\n",
    "# 输出中位数元素\n",
    "print(\"Median element:\", median_element)\n",
    "\n",
    "# 第三步：切片出从中位数索引开始的所有元素\n",
    "sliced_list = sorted_L[median_index:]\n",
    "\n",
    "# 输出切片后的列表\n",
    "print(\"Sliced list:\", sliced_list)\n"
   ]
  },
  {
   "cell_type": "code",
   "execution_count": null,
   "metadata": {},
   "outputs": [],
   "source": [
    "#This is extra example that I will show\n",
    "import numpy as np\n",
    "import matplotlib.pyplot as plt\n",
    "from scipy.stats import multivariate_normal\n",
    "from mpl_toolkits.mplot3d import Axes3D\n",
    "#Parameters to set"
   ]
  }
 ],
 "metadata": {
  "kernelspec": {
   "display_name": "Python 3 (ipykernel)",
   "language": "python",
   "name": "python3"
  },
  "language_info": {
   "codemirror_mode": {
    "name": "ipython",
    "version": 3
   },
   "file_extension": ".py",
   "mimetype": "text/x-python",
   "name": "python",
   "nbconvert_exporter": "python",
   "pygments_lexer": "ipython3",
   "version": "3.12.4"
  },
  "toc": {
   "colors": {
    "hover_highlight": "#DAA520",
    "navigate_num": "#000000",
    "navigate_text": "#333333",
    "running_highlight": "#FF0000",
    "selected_highlight": "#FFD700",
    "sidebar_border": "#EEEEEE",
    "wrapper_background": "#FFFFFF"
   },
   "moveMenuLeft": true,
   "nav_menu": {
    "height": "12px",
    "width": "252px"
   },
   "navigate_menu": true,
   "number_sections": true,
   "sideBar": true,
   "skip_h1_title": false,
   "threshold": 4,
   "toc_cell": false,
   "toc_position": {},
   "toc_section_display": "block",
   "toc_window_display": false,
   "widenNotebook": false
  }
 },
 "nbformat": 4,
 "nbformat_minor": 4
}
