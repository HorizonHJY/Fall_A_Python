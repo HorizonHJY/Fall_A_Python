{
 "cells": [
  {
   "cell_type": "markdown",
   "metadata": {},
   "source": [
    "# Practice with New Objects\n",
    "\n"
   ]
  },
  {
   "cell_type": "markdown",
   "metadata": {},
   "source": [
    "## Practice with Dictionaries"
   ]
  },
  {
   "cell_type": "markdown",
   "metadata": {},
   "source": [
    "From the dictionary, produce a list of strings, where each element in the list is a last name.  Your code should work for an arbitrary dictionary formatted as given below. Please print Last names in the dictionary."
   ]
  },
  {
   "cell_type": "code",
   "execution_count": 140,
   "metadata": {},
   "outputs": [
    {
     "name": "stdout",
     "output_type": "stream",
     "text": [
      "names in the dictionary are: Balan, Jake, "
     ]
    }
   ],
   "source": [
    "d = {1: \"Sundari Balan\", 2 : \"Dennis Jake\"}\n",
    "\n",
    "#Write your code here\n",
    "\n",
    "last_names = []\n",
    "last_name = []\n",
    "\n",
    "for i in d:\n",
    "    full_name = d[i]\n",
    "    #print (full_name)\n",
    "    last_name = full_name.split()[-1]\n",
    "    # print(last_name)\n",
    "    last_names += [last_name]\n",
    "    \n",
    "print(\"names in the dictionary are:\", end = \" \")\n",
    "\n",
    "for name in last_names:\n",
    "    print(name + \", \", end = \"\")\n",
    "# print(last_names)\n",
    "#help(list)"
   ]
  },
  {
   "cell_type": "code",
   "execution_count": 142,
   "metadata": {},
   "outputs": [
    {
     "name": "stdout",
     "output_type": "stream",
     "text": [
      "Last names in the dictionary: ['Balan', 'Jake']\n"
     ]
    }
   ],
   "source": [
    "#include chatGPT code here \n",
    "d = {1: \"Sundari Balan\", 2: \"Dennis Jake\"}\n",
    "\n",
    "# 初始化一个空列表来存储姓氏\n",
    "last_names = []\n",
    "\n",
    "# 遍历字典，获取每个全名并提取姓氏\n",
    "for key in d:\n",
    "    full_name = d[key]\n",
    "    # 通过空格分割名字，取最后一个部分作为姓氏\n",
    "    last_name = full_name.rsplit(' ', 1)[-1]\n",
    "    last_names.append(last_name)\n",
    "\n",
    "# 打印姓氏列表\n",
    "print(\"Last names in the dictionary:\", last_names)"
   ]
  },
  {
   "cell_type": "markdown",
   "metadata": {},
   "source": [
    "Consider the following dictionary D of scores.  From this dictionary, produce another dictionary where the keys are the names and the values are the average scores."
   ]
  },
  {
   "cell_type": "code",
   "execution_count": 144,
   "metadata": {},
   "outputs": [
    {
     "name": "stdout",
     "output_type": "stream",
     "text": [
      "{'Jake': 88.5, 'Charlie': 99.66666666666667, 'Ellen': 90.0}\n"
     ]
    }
   ],
   "source": [
    "# creating a new dictionary \n",
    "D = {\"Jake\" : [99,87,91, 77], \"Charlie\" : [100,100,99], \"Ellen\" : [95,70, 85,100,100]}\n",
    "\n",
    "#Write your code here\n",
    "D_new = {}\n",
    "for name in D:\n",
    "    number = 0\n",
    "    sum_score = 0\n",
    "    for score in D[name]:\n",
    "       number += 1 \n",
    "       sum_score += score\n",
    "    ave_score = sum_score/number\n",
    "    D_new[name] = ave_score\n",
    "print(D_new)\n"
   ]
  },
  {
   "cell_type": "code",
   "execution_count": 22,
   "metadata": {},
   "outputs": [
    {
     "name": "stdout",
     "output_type": "stream",
     "text": [
      "Dictionary with average scores: {'Jake': 88.5, 'Charlie': 99.66666666666667, 'Ellen': 90.0}\n"
     ]
    }
   ],
   "source": [
    "#include chatGPT code here \n",
    "D = {\"Jake\": [99, 87, 91, 77], \"Charlie\": [100, 100, 99], \"Ellen\": [95, 70, 85, 100, 100]}\n",
    "\n",
    "# 初始化一个空字典来存储名字和对应的平均分数\n",
    "average_scores = {}\n",
    "\n",
    "# 遍历字典，计算每个人的平均分数\n",
    "for name, scores in D.items():\n",
    "    average_scores[name] = sum(scores) / len(scores)\n",
    "\n",
    "# 打印新的字典\n",
    "print(\"Dictionary with average scores:\", average_scores)\n",
    "\n",
    "\n"
   ]
  },
  {
   "cell_type": "code",
   "execution_count": 146,
   "metadata": {},
   "outputs": [],
   "source": [
    "#Example of Tuples for using in Dictionaries\n",
    "\n",
    "my_dict = {(\"Jake\",1) : 100, (\"Charlie\",2) : 200, (\"Ellen\",3) : 300}  \n",
    "# list out keys and values separately \n"
   ]
  },
  {
   "cell_type": "markdown",
   "metadata": {},
   "source": [
    "Write the code to check whether the inputted sentence is a pangram, meaning that it contains all 26 letters.  "
   ]
  },
  {
   "cell_type": "code",
   "execution_count": 148,
   "metadata": {},
   "outputs": [
    {
     "name": "stdout",
     "output_type": "stream",
     "text": [
      "the inputted sentence is a pangram\n"
     ]
    }
   ],
   "source": [
    "sentence = \"the quick brown fox jumps over the lazy dog\"\n",
    "#Write your code here\n",
    "#help(str)\n",
    "a_list = []\n",
    "new_sentence = sentence.replace(\" \",\"\")\n",
    "for string in new_sentence:\n",
    "    if string not in a_list:\n",
    "        a_list += string\n",
    "    else:\n",
    "        pass\n",
    "        # print(f\"{string} is already existed\")\n",
    "if len(a_list) == 26:\n",
    "    print(\"the inputted sentence is a pangram\")\n",
    "else:\n",
    "    print(\"the inputted sentence is not a pangram\")"
   ]
  },
  {
   "cell_type": "markdown",
   "metadata": {},
   "source": [
    "## Practice with String Methods\n",
    "\n",
    "Use the **count** method to count the number of times that str1 appears in str2."
   ]
  },
  {
   "cell_type": "code",
   "execution_count": 150,
   "metadata": {},
   "outputs": [
    {
     "name": "stdout",
     "output_type": "stream",
     "text": [
      "2\n"
     ]
    }
   ],
   "source": [
    "str1 = \"co\"\n",
    "str2 = \"coding in school is cool\"\n",
    "#Write your code here\n",
    "num = str2.count(\"co\")\n",
    "print(num)"
   ]
  },
  {
   "cell_type": "code",
   "execution_count": 152,
   "metadata": {},
   "outputs": [
    {
     "name": "stdout",
     "output_type": "stream",
     "text": [
      "The substring 'co' appears 2 times in the string 'coding in school is cool'.\n"
     ]
    }
   ],
   "source": [
    "#include chatGPT code here \n",
    "str1 = \"co\"\n",
    "str2 = \"coding in school is cool\"\n",
    "\n",
    "# 使用 count() 方法统计 str1 在 str2 中出现的次数\n",
    "count = str2.count(str1)\n",
    "\n",
    "# 打印结果\n",
    "print(f\"The substring '{str1}' appears {count} times in the string '{str2}'.\")\n",
    "\n"
   ]
  },
  {
   "cell_type": "markdown",
   "metadata": {},
   "source": [
    "Count the number of words that start with a vowel (a,e,i,o,u) in the following sentences.  The code should work for any sentence. The **split**, **replace** and **lower** methods will be useful here."
   ]
  },
  {
   "cell_type": "code",
   "execution_count": 154,
   "metadata": {},
   "outputs": [
    {
     "name": "stdout",
     "output_type": "stream",
     "text": [
      "There are 7 words that start with a vowel, \n",
      "and they are: eat, apples, acquire, used, and, i, apples, "
     ]
    }
   ],
   "source": [
    "sentence = \"\"\"Jake likes to eat apples. So, he went to the store to acquire some. \n",
    "He used his coupons and then he declared: I love apples.\"\"\"\n",
    "\n",
    "#Write your code here\n",
    "vowel = [\"a\",\"e\",\"i\",\"o\",\"u\"]\n",
    "count = 0 \n",
    "vowel_list = []\n",
    "new_sentence = sentence.lower().replace(\":\",\"\").replace(\".\",\"\").split()\n",
    "for i in new_sentence:\n",
    "    single_word = []\n",
    "    for str in i:\n",
    "        single_word.append(str)\n",
    "    if single_word[0] in vowel:\n",
    "        count += 1\n",
    "        vowel_list.append(i)\n",
    "    else:\n",
    "        pass\n",
    "print(\"There are {} words that start with a vowel, \\nand they are: \".format(count),end = \"\")\n",
    "for i in vowel_list:\n",
    "    print(i+\", \",end =\"\")"
   ]
  },
  {
   "cell_type": "code",
   "execution_count": 156,
   "metadata": {},
   "outputs": [
    {
     "name": "stdout",
     "output_type": "stream",
     "text": [
      "Number of words that start with a vowel: 7\n",
      "Words that start with a vowel: ['eat', 'apples', 'acquire', 'used', 'and', 'i', 'apples']\n"
     ]
    }
   ],
   "source": [
    "#include chatGPT code here \n",
    "sentence = \"\"\"Jake likes to eat apples. So, he went to the store to acquire some. He used his coupons and then he declared: I love apples.\"\"\"\n",
    "\n",
    "# 去除句子中的标点符号\n",
    "sentence = sentence.replace('.', '').replace(',', '').replace(':', '')\n",
    "\n",
    "# 将句子转换为小写\n",
    "sentence = sentence.lower()\n",
    "\n",
    "# 使用 split() 分割句子为单词列表\n",
    "words = sentence.split()\n",
    "\n",
    "# 定义元音集合\n",
    "vowels = ('a', 'e', 'i', 'o', 'u')\n",
    "\n",
    "# 计算以元音开头的单词数量\n",
    "vowel_starting_words = [word for word in words if word.startswith(vowels)]\n",
    "\n",
    "# 输出以元音开头的单词数量\n",
    "print(\"Number of words that start with a vowel:\", len(vowel_starting_words))\n",
    "\n",
    "# 输出所有以元音开头的单词\n",
    "print(\"Words that start with a vowel:\", vowel_starting_words)\n"
   ]
  },
  {
   "cell_type": "markdown",
   "metadata": {},
   "source": [
    "\n",
    "## Practice with List Methods\n",
    " \n",
    "Store all of the words with more than 5 letters in a list. Use the **append** method for lists and the **strip** method for strings to get rid of punctuation."
   ]
  },
  {
   "cell_type": "code",
   "execution_count": 158,
   "metadata": {},
   "outputs": [
    {
     "name": "stdout",
     "output_type": "stream",
     "text": [
      "please find all more than 5 letters words: apples, acquire, coupons, declared, apples\n"
     ]
    }
   ],
   "source": [
    "sentence = \"\"\"Jake likes to eat apples. So, he went to the store to acquire some. \n",
    "He used his coupons and then he declared: I love apples.\"\"\"\n",
    "\n",
    "#Write you code here\n",
    "results_list = []\n",
    "words = sentence.replace(\":\",\"\").replace(\".\",\"\").strip(\".\").split()\n",
    "for i in words:\n",
    "    num = len(i)\n",
    "    if num > 5:\n",
    "        results_list.append(i)\n",
    "    else:\n",
    "        pass\n",
    "print(\"please find all more than 5 letters words: \" + \", \".join(results_list))"
   ]
  },
  {
   "cell_type": "code",
   "execution_count": 160,
   "metadata": {},
   "outputs": [
    {
     "name": "stdout",
     "output_type": "stream",
     "text": [
      "Words with more than 5 letters: ['apples', 'acquire', 'coupons', 'declared', 'apples']\n"
     ]
    }
   ],
   "source": [
    "#include chatGPT code here \n",
    "sentence = \"\"\"Jake likes to eat apples. So, he went to the store to acquire some. \n",
    "He used his coupons and then he declared: I love apples.\"\"\"\n",
    "\n",
    "# 用于存储超过 5 个字母的单词的列表\n",
    "long_words = []\n",
    "\n",
    "# 去除句子中的标点符号\n",
    "sentence = sentence.replace('.', '').replace(',', '').replace(':', '').replace(';', '')\n",
    "\n",
    "# 将句子分割为单词列表\n",
    "words = sentence.split()\n",
    "\n",
    "# 遍历每个单词\n",
    "for word in words:\n",
    "    # 如果单词长度大于 5，则将其加入列表\n",
    "    if len(word) > 5:\n",
    "        long_words.append(word)\n",
    "\n",
    "# 输出结果\n",
    "print(\"Words with more than 5 letters:\", long_words)\n",
    "\n"
   ]
  },
  {
   "cell_type": "markdown",
   "metadata": {},
   "source": [
    "From the list L, created a list of lists called Q, which slices around the number 4. For example, if  L = [1,2,3,4,5,6], then Q = [[1,2,3], [5,6]].  The code should work for general L with a single 4. Use the **index** and **append** methods. "
   ]
  },
  {
   "cell_type": "code",
   "execution_count": 162,
   "metadata": {},
   "outputs": [
    {
     "name": "stdout",
     "output_type": "stream",
     "text": [
      "there is no 4 in L anymore, please see the resutls: [[1, 2, 3], [6, 5], [10, 3]]\n"
     ]
    }
   ],
   "source": [
    "L=[1,2,3,4,6,5,4,10,3]\n",
    "#Write you code here\n",
    "Q = []\n",
    "while True:\n",
    "    try:\n",
    "        find_num = L.index(4)\n",
    "    except:\n",
    "        Q.append(L)\n",
    "        print(\"there is no 4 in L anymore, please see the resutls: {}\".format(Q))\n",
    "        break\n",
    "    L2 = L[:find_num]\n",
    "    L = L[find_num + 1:]\n",
    "    Q.append(L2)\n",
    "\n",
    "    "
   ]
  },
  {
   "cell_type": "code",
   "execution_count": 107,
   "metadata": {},
   "outputs": [
    {
     "name": "stdout",
     "output_type": "stream",
     "text": [
      "[[1, 2, 3], [6, 5], [10, 3]]\n"
     ]
    }
   ],
   "source": [
    "#include chatGPT code here \n",
    "L = [1, 2, 3, 4, 6, 5, 4, 10, 3]\n",
    "\n",
    "# 初始化一个空列表 Q 来存储子列表\n",
    "Q = []\n",
    "\n",
    "# 使用 while 循环，每次找到4后将前面的部分分割出来\n",
    "while 4 in L:\n",
    "    index_4 = L.index(4)  # 找到第一个4的索引\n",
    "    Q.append(L[:index_4])  # 将4之前的部分作为子列表加入Q\n",
    "    L = L[index_4 + 1:]  # 更新列表，去掉4和前面的部分\n",
    "\n",
    "# 将最后的剩余部分加入 Q\n",
    "if L:  # 如果 L 不为空，加入最后的部分\n",
    "    Q.append(L)\n",
    "\n",
    "# 输出结果\n",
    "print(Q)\n"
   ]
  }
 ],
 "metadata": {
  "kernelspec": {
   "display_name": "Python 3 (ipykernel)",
   "language": "python",
   "name": "python3"
  },
  "language_info": {
   "codemirror_mode": {
    "name": "ipython",
    "version": 3
   },
   "file_extension": ".py",
   "mimetype": "text/x-python",
   "name": "python",
   "nbconvert_exporter": "python",
   "pygments_lexer": "ipython3",
   "version": "3.12.4"
  },
  "toc": {
   "colors": {
    "hover_highlight": "#DAA520",
    "navigate_num": "#000000",
    "navigate_text": "#333333",
    "running_highlight": "#FF0000",
    "selected_highlight": "#FFD700",
    "sidebar_border": "#EEEEEE",
    "wrapper_background": "#FFFFFF"
   },
   "moveMenuLeft": true,
   "nav_menu": {
    "height": "66px",
    "width": "252px"
   },
   "navigate_menu": true,
   "number_sections": true,
   "sideBar": true,
   "skip_h1_title": false,
   "threshold": 4,
   "toc_cell": false,
   "toc_position": {},
   "toc_section_display": "block",
   "toc_window_display": false,
   "widenNotebook": false
  }
 },
 "nbformat": 4,
 "nbformat_minor": 4
}
