{
 "cells": [
  {
   "cell_type": "markdown",
   "metadata": {},
   "source": [
    "# Scope Practice"
   ]
  },
  {
   "cell_type": "code",
   "execution_count": 1,
   "metadata": {},
   "outputs": [
    {
     "name": "stdout",
     "output_type": "stream",
     "text": [
      "10\n",
      "None\n"
     ]
    }
   ],
   "source": [
    "# Exercise 1.a: What does this code print out?\n",
    "\n",
    "a = 10\n",
    "\n",
    "def plus_one(a):\n",
    "    a = a + 1\n",
    "    \n",
    "\n",
    "print(a)\n",
    "print(plus_one(a))"
   ]
  },
  {
   "cell_type": "code",
   "execution_count": 2,
   "metadata": {},
   "outputs": [
    {
     "name": "stdout",
     "output_type": "stream",
     "text": [
      "10\n",
      "None\n"
     ]
    }
   ],
   "source": [
    "# Exercise 1.b: What does this code print out?\n",
    "def plus_one(a):\n",
    "    a = a + 1\n",
    "\n",
    "a = 10\n",
    "print(a)\n",
    "print(plus_one(a))"
   ]
  },
  {
   "cell_type": "code",
   "execution_count": 1,
   "metadata": {},
   "outputs": [
    {
     "name": "stdout",
     "output_type": "stream",
     "text": [
      "10\n",
      "11\n"
     ]
    }
   ],
   "source": [
    "# Exercise 1.c: What does this code print out?\n",
    "def plus_one(a):\n",
    "    a = a + 1\n",
    "    return a\n",
    "\n",
    "a = 10\n",
    "print(a)\n",
    "print(plus_one(a))"
   ]
  },
  {
   "cell_type": "code",
   "execution_count": 2,
   "metadata": {},
   "outputs": [
    {
     "name": "stdout",
     "output_type": "stream",
     "text": [
      "10\n",
      "11\n"
     ]
    }
   ],
   "source": [
    "def plus_one(a):\n",
    "    a = a + 1\n",
    "    return a\n",
    "\n",
    "b = 10\n",
    "print(b)\n",
    "print(plus_one(b))"
   ]
  },
  {
   "cell_type": "code",
   "execution_count": 3,
   "metadata": {},
   "outputs": [
    {
     "name": "stdout",
     "output_type": "stream",
     "text": [
      "10\n",
      "11\n",
      "10\n"
     ]
    }
   ],
   "source": [
    "# Exercise 1.d: What does this code print out?\n",
    "def plus_one(a):\n",
    "    a = a + 1\n",
    "    return a\n",
    "\n",
    "a = 10\n",
    "print(a)\n",
    "print(plus_one(a))\n",
    "print(a)"
   ]
  },
  {
   "cell_type": "code",
   "execution_count": 4,
   "metadata": {},
   "outputs": [
    {
     "name": "stdout",
     "output_type": "stream",
     "text": [
      "10\n",
      "11\n",
      "11\n"
     ]
    }
   ],
   "source": [
    "# Exercise 1.e: What does this code print out?\n",
    "def plus_one(a):\n",
    "    a = a + 1\n",
    "    return a \n",
    "\n",
    "a = 10\n",
    "print(a)\n",
    "print(plus_one(a))\n",
    "a = plus_one(a)\n",
    "print(a)"
   ]
  },
  {
   "cell_type": "markdown",
   "metadata": {},
   "source": [
    "# Function Practice\n",
    "\n",
    "Define the following function:\n",
    "\n",
    "- Input: list of numbers\n",
    "- Output: sum of these numbers"
   ]
  },
  {
   "cell_type": "code",
   "execution_count": 40,
   "metadata": {},
   "outputs": [
    {
     "name": "stdout",
     "output_type": "stream",
     "text": [
      "the sum of these number in [1, 2, 3, 4] is 10\n"
     ]
    }
   ],
   "source": [
    "#Write your code here\n",
    "L = [1,2,3,4]\n",
    "def sum_list(list):\n",
    "    sum_number = 0 \n",
    "    for i in list:\n",
    "        sum_number += i\n",
    "    print(f\"the sum of these number in {list} is {sum_number}\")\n",
    "sum_list(L)"
   ]
  },
  {
   "cell_type": "markdown",
   "metadata": {},
   "source": [
    "Define the following function:\n",
    "\n",
    "- Input: string and number\n",
    "- Output: The character of the string in the index given by number.  If this index does not exist, then return -1."
   ]
  },
  {
   "cell_type": "code",
   "execution_count": 216,
   "metadata": {},
   "outputs": [
    {
     "name": "stdout",
     "output_type": "stream",
     "text": [
      "[error] this index does not exist!\n",
      "-1\n",
      "the content of index NO[0] is b\n"
     ]
    }
   ],
   "source": [
    "#Write you code here\n",
    "number = 3\n",
    "string = \"base\"\n",
    "def check_content(string, index):\n",
    "    length = len(string)\n",
    "    if index > length or index <0:\n",
    "        print(\"[error] this index does not exist!\")\n",
    "        return(-1)\n",
    "    else:\n",
    "        content = []\n",
    "        for i in string:\n",
    "            content.append(i)\n",
    "        print(f'the content of index NO[{index}] is {content[index]}')\n",
    "a = check_content(\"base\",-1) # test function for non-exist index\n",
    "print(a)\n",
    "b = check_content(\"base\",0) #test case for normal function"
   ]
  },
  {
   "cell_type": "markdown",
   "metadata": {},
   "source": [
    "Define the following function:\n",
    "\n",
    "- Input: list of string\n",
    "- Output single string with elements separated by  space\n",
    "\n",
    "Example:  string_join([\"test\", \"test\", \"test\"]) => \"test test test\""
   ]
  },
  {
   "cell_type": "code",
   "execution_count": 94,
   "metadata": {},
   "outputs": [
    {
     "data": {
      "text/plain": [
       "'1 2 3'"
      ]
     },
     "execution_count": 94,
     "metadata": {},
     "output_type": "execute_result"
    }
   ],
   "source": [
    "#Write you code here\n",
    "list_strings = ['1','2','3']\n",
    "str = ''\n",
    "for i in list_strings[:-1]:\n",
    "    str += i + \" \"\n",
    "str + list_strings[-1]"
   ]
  },
  {
   "cell_type": "markdown",
   "metadata": {},
   "source": [
    "Define the following function:\n",
    "    \n",
    "- Input: String separated by commas\n",
    "- Output: The sum of this numbers\n",
    "\n",
    "Example: sum_numbers_in_string(\"1,2,3,4\") => 10"
   ]
  },
  {
   "cell_type": "code",
   "execution_count": 110,
   "metadata": {},
   "outputs": [
    {
     "name": "stdout",
     "output_type": "stream",
     "text": [
      "the sum of these number is 21\n"
     ]
    }
   ],
   "source": [
    "#Write you code here\n",
    "str_nums = \"1,2,3,4,5,6\"\n",
    "def sum_str(str):\n",
    "    list_num = str.split(\",\")\n",
    "    sum = 0 \n",
    "    for i in list_num:\n",
    "        sum += int(i)\n",
    "    print(f\"the sum of these number is {sum}\")\n",
    "sum_str(str_nums)#test case\n",
    "\n",
    "#output = 21"
   ]
  },
  {
   "cell_type": "markdown",
   "metadata": {},
   "source": [
    "Define the following functions:\n",
    "\n",
    "Read_File(file_name)\n",
    "\n",
    "- Input: file_name (materials/numbers.txt)\n",
    "- Output: list of all numbers as ints\n",
    "\n",
    "Mode(list_nums)\n",
    "\n",
    "- Input: list of nums\n",
    "- Ouput: mode of the list"
   ]
  },
  {
   "cell_type": "code",
   "execution_count": 198,
   "metadata": {},
   "outputs": [
    {
     "name": "stdout",
     "output_type": "stream",
     "text": [
      "[1, 2, 1, 4, 5, 34, 23, 23, 23, 1, 5, 5, 5, 2, 6, 7, 5, 3, 5, 43, 54, 23, 6, 42, 23, 1, 2, 3, 4, 5, 6, 7, 8, 1, 3, 5, 34, 23, 35, 56, 3, 2, 4, 2, 34, 23, 5, 6, 7, 87, 54, 234, 2, 1, 5, 45, 34, 2, 4, 6, 8, 9, 56, 34, 2, 4]\n"
     ]
    }
   ],
   "source": [
    "file_path = \"data/numbers.txt\"\n",
    "\n",
    "def Read_File(file_path):\n",
    "    result = []\n",
    "    file = open(file_path,\"r\")\n",
    "    lines = file.readlines()\n",
    "    for i in lines:\n",
    "        format_line = i.strip(\"\\n\").split(\",\")\n",
    "        for i in format_line:\n",
    "            result.append(int(i))\n",
    "    return result\n",
    "a = Read_File(file_path)\n",
    "print(a)"
   ]
  },
  {
   "cell_type": "code",
   "execution_count": 200,
   "metadata": {},
   "outputs": [
    {
     "name": "stdout",
     "output_type": "stream",
     "text": [
      "the mode is 5 and it shows 10 times in the list:[1, 2, 1, 4, 5, 34, 23, 23, 23, 1, 5, 5, 5, 2, 6, 7, 5, 3, 5, 43, 54, 23, 6, 42, 23, 1, 2, 3, 4, 5, 6, 7, 8, 1, 3, 5, 34, 23, 35, 56, 3, 2, 4, 2, 34, 23, 5, 6, 7, 87, 54, 234, 2, 1, 5, 45, 34, 2, 4, 6, 8, 9, 56, 34, 2, 4]\n"
     ]
    }
   ],
   "source": [
    "def Mode(list_nums):\n",
    "    num_time = {}\n",
    "    for i in list_nums:\n",
    "        if i in num_time:\n",
    "            num_time[i] += 1\n",
    "        else:\n",
    "            num_time[i] = 1\n",
    "    max_list = max(num_time.values())  \n",
    "    for i in num_time:\n",
    "        # print(num_time[i])\n",
    "        if num_time[i] == max_list:\n",
    "            the_mode = i\n",
    "    print(f\"the mode is {the_mode} and it shows {max_list} times in the list:{list_nums}\")\n",
    "    return None\n",
    "Mode(a)#test"
   ]
  },
  {
   "cell_type": "markdown",
   "metadata": {},
   "source": [
    "String you functions together in the cell below"
   ]
  },
  {
   "cell_type": "code",
   "execution_count": 214,
   "metadata": {},
   "outputs": [
    {
     "name": "stdout",
     "output_type": "stream",
     "text": [
      "[1, 2, 1, 4, 5, 34, 23, 23, 23, 1, 5, 5, 5, 2, 6, 7, 5, 3, 5, 43, 54, 23, 6, 42, 23, 1, 2, 3, 4, 5, 6, 7, 8, 1, 3, 5, 34, 23, 35, 56, 3, 2, 4, 2, 34, 23, 5, 6, 7, 87, 54, 234, 2, 1, 5, 45, 34, 2, 4, 6, 8, 9, 56, 34, 2, 4]\n",
      "MODE Part:⬇️\n",
      "the mode is 5 and it shows 10 times in the list:[1, 2, 1, 4, 5, 34, 23, 23, 23, 1, 5, 5, 5, 2, 6, 7, 5, 3, 5, 43, 54, 23, 6, 42, 23, 1, 2, 3, 4, 5, 6, 7, 8, 1, 3, 5, 34, 23, 35, 56, 3, 2, 4, 2, 34, 23, 5, 6, 7, 87, 54, 234, 2, 1, 5, 45, 34, 2, 4, 6, 8, 9, 56, 34, 2, 4]\n"
     ]
    }
   ],
   "source": [
    "#Write you code here\n",
    "file_path = \"data/numbers.txt\"\n",
    "list_nums = Read_File(file_path)\n",
    "print(list_nums)\n",
    "print(\"MODE Part:⬇️\")\n",
    "Mode(list_nums)\n"
   ]
  },
  {
   "cell_type": "code",
   "execution_count": null,
   "metadata": {},
   "outputs": [],
   "source": []
  }
 ],
 "metadata": {
  "kernelspec": {
   "display_name": "Python 3 (ipykernel)",
   "language": "python",
   "name": "python3"
  },
  "language_info": {
   "codemirror_mode": {
    "name": "ipython",
    "version": 3
   },
   "file_extension": ".py",
   "mimetype": "text/x-python",
   "name": "python",
   "nbconvert_exporter": "python",
   "pygments_lexer": "ipython3",
   "version": "3.12.4"
  },
  "toc": {
   "nav_menu": {
    "height": "48px",
    "width": "252px"
   },
   "number_sections": true,
   "sideBar": true,
   "skip_h1_title": false,
   "toc_cell": false,
   "toc_position": {},
   "toc_section_display": "block",
   "toc_window_display": false
  }
 },
 "nbformat": 4,
 "nbformat_minor": 4
}
