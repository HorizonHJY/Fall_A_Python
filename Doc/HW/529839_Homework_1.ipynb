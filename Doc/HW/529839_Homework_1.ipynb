{
 "cells": [
  {
   "cell_type": "markdown",
   "metadata": {
    "deletable": false,
    "editable": false,
    "nbgrader": {
     "checksum": "7d44ba32e6f4fa05f666c6ca59eeafcb",
     "grade": false,
     "grade_id": "cell-a4c41f39205051c2",
     "locked": true,
     "schema_version": 1,
     "solution": false
    },
    "slideshow": {
     "slide_type": ""
    },
    "tags": []
   },
   "source": [
    "# Homework 1\n",
    "\n",
    "\n",
    "## Problem 1 (If-statment)\n",
    "\n",
    "If statement:\n",
    "\n",
    "Given an integer n, perform the following conditional actions:\n",
    "\n",
    "    If n is odd, set output to \"Hello World\"\n",
    "    If n is even and in the inclusive range of 2 to 5, set output to \"Goodbye World\"\n",
    "    If n is even and in the inclusive range of 6 to 20, set output to \"Hello World\"\n",
    "    If n is even and greater than 20, set output to \"Goodbye World\"\n",
    "\n",
    "Example:\n",
    "\n",
    "    -- Input: n = 2\n",
    "    -- Output: output = \"Goodbye World\""
   ]
  },
  {
   "cell_type": "markdown",
   "metadata": {},
   "source": [
    "Write your code here"
   ]
  },
  {
   "cell_type": "code",
   "execution_count": 209,
   "metadata": {
    "deletable": false,
    "nbgrader": {
     "checksum": "aa515f7b452c349aea8b934f4af15e0b",
     "grade": false,
     "grade_id": "cell-b78086c290d4a60c",
     "locked": false,
     "schema_version": 1,
     "solution": true
    }
   },
   "outputs": [],
   "source": [
    "def problem1(n):\n",
    "    output = 0\n",
    "    # YOUR CODE HERE \n",
    "    if n % 2 != 0 or 6 <= n <= 20  :\n",
    "        output = \"Hello World\"\n",
    "        print(f\"out put = {output}\")\n",
    "    elif 2 <= n <= 5 or 20 < n:\n",
    "        output = \"Goodbye World\"\n",
    "        print(f\"out put = {output}\")\n",
    "    else:\n",
    "        raise NotImplementedError()\n",
    "    return(output)\n"
   ]
  },
  {
   "cell_type": "code",
   "execution_count": 211,
   "metadata": {
    "deletable": false,
    "editable": false,
    "nbgrader": {
     "checksum": "62cfc000ae61270d2be32995408b867c",
     "grade": true,
     "grade_id": "cell-2853176972493b6e",
     "locked": true,
     "points": 25,
     "schema_version": 1,
     "solution": false
    }
   },
   "outputs": [
    {
     "name": "stdout",
     "output_type": "stream",
     "text": [
      "out put = Hello World\n",
      "out put = Goodbye World\n",
      "out put = Hello World\n"
     ]
    }
   ],
   "source": [
    "assert problem1(3) == \"Hello World\"\n",
    "assert problem1(2) == \"Goodbye World\"\n",
    "assert problem1(18) == \"Hello World\""
   ]
  },
  {
   "cell_type": "code",
   "execution_count": 213,
   "metadata": {
    "deletable": false,
    "editable": false,
    "nbgrader": {
     "checksum": "d8f8125d13f086c6af26f122785d5b33",
     "grade": true,
     "grade_id": "cell-b16dd3056b5a9f95",
     "locked": true,
     "points": 25,
     "schema_version": 1,
     "solution": false
    }
   },
   "outputs": [
    {
     "name": "stdout",
     "output_type": "stream",
     "text": [
      "out put = Hello World\n",
      "out put = Goodbye World\n"
     ]
    }
   ],
   "source": [
    "assert problem1(29) == \"Hello World\"\n",
    "assert problem1(24) == \"Goodbye World\""
   ]
  },
  {
   "cell_type": "markdown",
   "metadata": {},
   "source": [
    "Write ChatGPT code here"
   ]
  },
  {
   "cell_type": "code",
   "execution_count": 216,
   "metadata": {},
   "outputs": [],
   "source": [
    "def problem1(n):\n",
    "    if n % 2 != 0:  # 如果 n 是奇数\n",
    "        return \"Hello World\"\n",
    "    elif 2 <= n <= 5:  # 如果 n 是偶数并且在 2 到 5 的范围内\n",
    "        return \"Goodbye World\"\n",
    "    elif 6 <= n <= 20:  # 如果 n 是偶数并且在 6 到 20 的范围内\n",
    "        return \"Hello World\"\n",
    "    elif n > 20:  # 如果 n 是偶数并且大于 20\n",
    "        return \"Goodbye World\"\n"
   ]
  },
  {
   "cell_type": "code",
   "execution_count": 218,
   "metadata": {},
   "outputs": [],
   "source": [
    "assert problem1(3) == \"Hello World\"\n",
    "assert problem1(2) == \"Goodbye World\"\n",
    "assert problem1(18) == \"Hello World\""
   ]
  },
  {
   "cell_type": "code",
   "execution_count": 220,
   "metadata": {},
   "outputs": [],
   "source": [
    "assert problem1(29) == \"Hello World\"\n",
    "assert problem1(24) == \"Goodbye World\""
   ]
  },
  {
   "cell_type": "markdown",
   "metadata": {
    "deletable": false,
    "editable": false,
    "nbgrader": {
     "checksum": "de6c5ee2bd77c081cf9691ce2ff16c80",
     "grade": false,
     "grade_id": "cell-1c14a1786a26dc5a",
     "locked": true,
     "schema_version": 1,
     "solution": false
    }
   },
   "source": [
    "## Problem 2 (For-loop, basic list manipulation)\n",
    "\n",
    "You and $K-1$ friends want to buy $N$ different pieces of candy.  Candy piece $i$ costs $p_i$. The candy shop owner is greedy and wants to maximize his number of new customers, so he increases the sale price of the candy for repeated customers; more precisely, if a customer has already purchased $x$ pieces of candy, then the cost of candy $i$ is $C_i*(x+1)$.\n",
    "\n",
    "Find and print the minimum cost for your group to purchase all $N$ pieces of candy.\n",
    "\n",
    "The input:\n",
    "\n",
    "    N: the number of candies to buy\n",
    "    K: the number of people\n",
    "    C: the cost of candy\n",
    "\n",
    "The output:\n",
    "\n",
    "    the total cost\n",
    "\n",
    "**Hint:** You may want to use the list comprehension function.\n",
    "\n",
    "\n",
    "Example:\n",
    "\n",
    "    --Input: \n",
    "        N = 4\n",
    "        K = 2\n",
    "        C = [1,3,4,5]\n",
    "\n",
    "    --Output:\n",
    "        cost = 4 + 5 + 3 * 2 + 1 * 2 = 17\n",
    "\n",
    "(Why 17 is the minimum cost in this case? You would always like your group to purchase the most expensive candies first. In this way, you will get the multipliers on candy costs for the cheap candies. In this case, two people in your group first purchase candies with costs 4 and 5. And then they will purchase candies with costs 3 and 1. When purchasing candies with costs 3 and 1, both of persons in your group are repeated customers, so they pay 3\\*2 and 1\\*2.)\n",
    "\n"
   ]
  },
  {
   "cell_type": "markdown",
   "metadata": {},
   "source": [
    "Write your code here"
   ]
  },
  {
   "cell_type": "code",
   "execution_count": 224,
   "metadata": {
    "deletable": false,
    "nbgrader": {
     "checksum": "7725000c9ee29de705fef155ca5d9a8b",
     "grade": false,
     "grade_id": "cell-562beecb93f03f23",
     "locked": false,
     "schema_version": 1,
     "solution": true
    }
   },
   "outputs": [],
   "source": [
    "def problem2(N, K, C):\n",
    "    # sort costs decreasing\n",
    "    C = sorted(C, reverse=True)\n",
    "    # variable to store the cost\n",
    "    cost = 0\n",
    "    # YOUR CODE HERE\n",
    "    brought_candy = 0\n",
    "    Candy_num = len(C)\n",
    "    people_price = []\n",
    "    people_turn = 0\n",
    "    ini = 0\n",
    "    print(\"total cost = \",end = \"\")\n",
    "    while ini < K:\n",
    "        people_price.append(1)\n",
    "        ini += 1\n",
    "    if N < Candy_num:\n",
    "        for price in C[-N:]:\n",
    "            if brought_candy == N:\n",
    "                break\n",
    "            cost += price\n",
    "            print(price+ \"+\")\n",
    "            brought_candy += 1\n",
    "    else:\n",
    "        while brought_candy < N:\n",
    "            if people_turn == K:\n",
    "                people_turn = 0\n",
    "            cost += C[brought_candy] * people_price[people_turn] \n",
    "            print(f\"{C[brought_candy]} * {people_price[people_turn]} + \",end =\"\")\n",
    "            brought_candy += 1\n",
    "            people_price[people_turn] += 1\n",
    "            people_turn += 1\n",
    "    print(f\"\\n\\ntotal cost = {cost}\")\n",
    "    return cost\n",
    "\n"
   ]
  },
  {
   "cell_type": "code",
   "execution_count": 226,
   "metadata": {
    "deletable": false,
    "editable": false,
    "nbgrader": {
     "checksum": "81aed62856603ba812199d5cd7fd8e9c",
     "grade": true,
     "grade_id": "cell-681343a4d7e22bbd",
     "locked": true,
     "points": 25,
     "schema_version": 1,
     "solution": false
    }
   },
   "outputs": [
    {
     "name": "stdout",
     "output_type": "stream",
     "text": [
      "total cost = 975 * 1 + 820 * 1 + 790 * 1 + 755 * 1 + 750 * 1 + 723 * 1 + 546 * 1 + 520 * 1 + 467 * 1 + 466 * 1 + 444 * 1 + 403 * 1 + 359 * 1 + 270 * 1 + 179 * 1 + 125 * 1 + 113 * 1 + 83 * 1 + 50 * 1 + \n",
      "\n",
      "total cost = 8838\n"
     ]
    }
   ],
   "source": [
    "# Test cases for Problem Set 4\n",
    "import random\n",
    "random.seed(100)\n",
    "N=random.randint(1,100) \n",
    "K=random.randint(1,100)   \n",
    "C = [random.randint(1,1000) for i in range(N)]\n",
    "assert problem2(N, K, C) == 8838"
   ]
  },
  {
   "cell_type": "code",
   "execution_count": 228,
   "metadata": {
    "deletable": false,
    "editable": false,
    "nbgrader": {
     "checksum": "905fe1877666d60eee4b5bc91155fb80",
     "grade": true,
     "grade_id": "cell-402bf89f76c4bd42",
     "locked": true,
     "points": 25,
     "schema_version": 1,
     "solution": false
    }
   },
   "outputs": [
    {
     "name": "stdout",
     "output_type": "stream",
     "text": [
      "total cost = 993 * 1 + 976 * 1 + 976 * 1 + 964 * 1 + 932 * 1 + 920 * 2 + 881 * 2 + 881 * 2 + 847 * 2 + 844 * 2 + 833 * 3 + 831 * 3 + 791 * 3 + 787 * 3 + 764 * 3 + 703 * 4 + 692 * 4 + 683 * 4 + 678 * 4 + 670 * 4 + 669 * 5 + 629 * 5 + 618 * 5 + 599 * 5 + 597 * 5 + 592 * 6 + 563 * 6 + 550 * 6 + 534 * 6 + 504 * 6 + 502 * 7 + 495 * 7 + 482 * 7 + 474 * 7 + 468 * 7 + 468 * 8 + 462 * 8 + 451 * 8 + 447 * 8 + 440 * 8 + 432 * 9 + 431 * 9 + 391 * 9 + 385 * 9 + 375 * 9 + 372 * 10 + 370 * 10 + 364 * 10 + 336 * 10 + 333 * 10 + 322 * 11 + 311 * 11 + 311 * 11 + 291 * 11 + 285 * 11 + 269 * 12 + 256 * 12 + 246 * 12 + 246 * 12 + 242 * 12 + 212 * 13 + 200 * 13 + 179 * 13 + 165 * 13 + 143 * 13 + 138 * 14 + 137 * 14 + 78 * 14 + 67 * 14 + 46 * 14 + 46 * 15 + 36 * 15 + 16 * 15 + 5 * 15 + \n",
      "\n",
      "total cost = 193878\n"
     ]
    }
   ],
   "source": [
    "import random\n",
    "random.seed(10)\n",
    "N=random.randint(1,100) \n",
    "K=random.randint(1,100)   \n",
    "C = [random.randint(1,1000) for i in range(N)]\n",
    "assert problem2(N, K, C) == 193878"
   ]
  },
  {
   "cell_type": "code",
   "execution_count": null,
   "metadata": {},
   "outputs": [],
   "source": []
  },
  {
   "cell_type": "code",
   "execution_count": null,
   "metadata": {},
   "outputs": [],
   "source": []
  },
  {
   "cell_type": "code",
   "execution_count": null,
   "metadata": {},
   "outputs": [],
   "source": []
  },
  {
   "cell_type": "markdown",
   "metadata": {},
   "source": [
    "Write ChatGPT code here"
   ]
  },
  {
   "cell_type": "code",
   "execution_count": 234,
   "metadata": {},
   "outputs": [
    {
     "name": "stdout",
     "output_type": "stream",
     "text": [
      "17\n"
     ]
    }
   ],
   "source": [
    "def problem2(N, K, C):\n",
    "    # 将糖果价格从高到低排序\n",
    "    C.sort(reverse=True)\n",
    "    \n",
    "    total_cost = 0\n",
    "    # 每个人买糖果的次数\n",
    "    purchase_count = [0] * K\n",
    "    \n",
    "    for i in range(N):\n",
    "        # 分配最贵的糖果给当前购买次数最少的人\n",
    "        person = i % K\n",
    "        total_cost += (purchase_count[person] + 1) * C[i]\n",
    "        # 更新该人的购买次数\n",
    "        purchase_count[person] += 1\n",
    "        print(purchase_count[person])\n",
    "    \n",
    "    return total_cost\n",
    "\n",
    "# 示例输入\n",
    "N = 4\n",
    "K = 2\n",
    "C = [1, 3, 4, 5]\n",
    "\n",
    "# 输出总成本\n",
    "print(min_candy_cost(N, K, C))  # 输出应该为17\n"
   ]
  },
  {
   "cell_type": "code",
   "execution_count": null,
   "metadata": {},
   "outputs": [],
   "source": []
  },
  {
   "cell_type": "code",
   "execution_count": null,
   "metadata": {},
   "outputs": [],
   "source": []
  },
  {
   "cell_type": "code",
   "execution_count": null,
   "metadata": {},
   "outputs": [],
   "source": []
  },
  {
   "cell_type": "markdown",
   "metadata": {},
   "source": [
    "Please compare the difference of two codes above. What do you learn after using ChatGPT and how can improve your code? Please write below."
   ]
  },
  {
   "cell_type": "code",
   "execution_count": null,
   "metadata": {},
   "outputs": [],
   "source": [
    "ChatGPT code is more readable, and the i%K and i in range(N) improve the efficiency of the code a lot."
   ]
  },
  {
   "cell_type": "code",
   "execution_count": null,
   "metadata": {},
   "outputs": [],
   "source": []
  },
  {
   "cell_type": "code",
   "execution_count": null,
   "metadata": {},
   "outputs": [],
   "source": []
  }
 ],
 "metadata": {
  "kernelspec": {
   "display_name": "Python 3 (ipykernel)",
   "language": "python",
   "name": "python3"
  },
  "language_info": {
   "codemirror_mode": {
    "name": "ipython",
    "version": 3
   },
   "file_extension": ".py",
   "mimetype": "text/x-python",
   "name": "python",
   "nbconvert_exporter": "python",
   "pygments_lexer": "ipython3",
   "version": "3.12.4"
  },
  "toc": {
   "colors": {
    "hover_highlight": "#DAA520",
    "navigate_num": "#000000",
    "navigate_text": "#333333",
    "running_highlight": "#FF0000",
    "selected_highlight": "#FFD700",
    "sidebar_border": "#EEEEEE",
    "wrapper_background": "#FFFFFF"
   },
   "moveMenuLeft": true,
   "nav_menu": {
    "height": "30px",
    "width": "252px"
   },
   "navigate_menu": true,
   "number_sections": true,
   "sideBar": true,
   "skip_h1_title": false,
   "threshold": 4,
   "toc_cell": false,
   "toc_position": {},
   "toc_section_display": "block",
   "toc_window_display": false,
   "widenNotebook": false
  }
 },
 "nbformat": 4,
 "nbformat_minor": 4
}
