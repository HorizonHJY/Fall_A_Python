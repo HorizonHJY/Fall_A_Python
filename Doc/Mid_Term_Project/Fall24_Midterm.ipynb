{
 "cells": [
  {
   "cell_type": "markdown",
   "id": "9cd23c4f",
   "metadata": {},
   "source": [
    "# Smart Logistic System in Amazon"
   ]
  },
  {
   "cell_type": "markdown",
   "id": "5caec3ce",
   "metadata": {},
   "source": [
    "### Note:  \n",
    "\n",
    "1. This is a group-based project, you are only allowed to discuss with your team members.\n",
    "\n",
    "2. You are not allowed to use any packages to read or write csv files."
   ]
  },
  {
   "cell_type": "markdown",
   "id": "00881757",
   "metadata": {},
   "source": [
    "## Problem1: The Estimated Value for Each Warehouse\n"
   ]
  },
  {
   "cell_type": "markdown",
   "id": "20162399",
   "metadata": {},
   "source": [
    "In this problem 1, you need to calculate the estimated total value and accumulated weight of each of 300 warehouses."
   ]
  },
  {
   "cell_type": "markdown",
   "id": "470c352a",
   "metadata": {},
   "source": [
    "### Step 1: Estimate the Maximized Total Value and Accumulated Weight of OneWarehouse"
   ]
  },
  {
   "cell_type": "markdown",
   "id": "d4758f98",
   "metadata": {},
   "source": [
    "Read the dataset from \"Products.csv\" first.\n"
   ]
  },
  {
   "cell_type": "code",
   "execution_count": null,
   "id": "66e3dad4",
   "metadata": {},
   "outputs": [],
   "source": [
    "# Write your code here\n",
    "\n",
    "\n"
   ]
  },
  {
   "cell_type": "markdown",
   "id": "f33275ec",
   "metadata": {},
   "source": [
    "Now let's get the estimated value and weight for one warehouse.You need to write a function \"get max value\" which could do the following 4 things:\n"
   ]
  },
  {
   "cell_type": "markdown",
   "id": "71d86aeb",
   "metadata": {},
   "source": [
    "1. Calculate the Value Weight Ratio for each product.\n",
    "2. Sort the calculated Value weight Ratios in ascending order.\n",
    "3. Select the products from the bottom of the ascending order to the top while looking at the accumulated weight of products to make sure the accumulated weight does not exceed the warehouse weight capacity.\n",
    "4. Calculate the corresponding estimated value for this warehouse after finishing product selection.\n"
   ]
  },
  {
   "cell_type": "markdown",
   "id": "e059b079",
   "metadata": {},
   "source": [
    "Remember, take every product into consideration; otherwise, you may have the risk of missing products. You want to put as many products with the highest Value Weight Ratio as possible before reaching the weight capacity for this warehouse."
   ]
  },
  {
   "cell_type": "code",
   "execution_count": null,
   "id": "92a7de1f",
   "metadata": {},
   "outputs": [],
   "source": [
    "# Write your code here\n",
    "\n",
    "\n"
   ]
  },
  {
   "cell_type": "markdown",
   "id": "36661c37",
   "metadata": {},
   "source": [
    "### Step 2: Estimate the Total Value for 300 Warehouses\n"
   ]
  },
  {
   "cell_type": "code",
   "execution_count": null,
   "id": "ca04a604",
   "metadata": {},
   "outputs": [],
   "source": [
    "# Write your code here\n",
    "\n",
    "\n"
   ]
  },
  {
   "cell_type": "markdown",
   "id": "28c8def9",
   "metadata": {},
   "source": [
    "## Problem 2: Top Alternative Selections"
   ]
  },
  {
   "cell_type": "markdown",
   "id": "21ee99a5",
   "metadata": {},
   "source": [
    "### Step 1: Generate a Distance Matrix\n",
    "- Generate a distance matrix of size **150x150**.\n",
    "- Each distance should be generated using a normal distribution with a mean of **500** and a standard deviation of **150**.\n",
    "- Ensure all distances are positive, and round them to the nearest integer.\n",
    "- Save the distance matrix to a file named `Distances.csv`."
   ]
  },
  {
   "cell_type": "code",
   "execution_count": null,
   "id": "35a16078",
   "metadata": {},
   "outputs": [],
   "source": [
    "# Write your code here\n",
    "\n",
    "\n"
   ]
  },
  {
   "cell_type": "markdown",
   "id": "6d65f703",
   "metadata": {},
   "source": [
    "### Step 2: Generate Product Data\n",
    "\n",
    "- Randomly select one warehouse (from 0 to 149) as the **out-of-stock warehouse**.\n",
    "- For each warehouse (including the out-of-stock warehouse), generate random values for the following attributes for **three types of products (A, B, and C)**:\n",
    "  - `Total_Value`: Random integer between 3000 and 15000 for Product A, 4000 to 20000 for Product B, and 2000 to 12000 for Product C.\n",
    "  - `Total_Weight`: Random integer between 500 and 3000 for Product A, 1000 to 5000 for Product B, and 700 to 3500 for Product C.\n",
    "- You will use these values in the next step to calculate the Value_per_Weight for each Helper warehouse.\n"
   ]
  },
  {
   "cell_type": "code",
   "execution_count": 1,
   "id": "1e208aba",
   "metadata": {},
   "outputs": [],
   "source": [
    "# Write your code here\n",
    "\n",
    "\n",
    "\n"
   ]
  },
  {
   "cell_type": "markdown",
   "id": "5f8ae9f5",
   "metadata": {},
   "source": [
    "### Step 3: Calculate Value_per_Weight\n",
    "\n",
    "- For each product (A, B, and C), calculate the Value_per_Weight for all Helper warehouses (excluding the out-of-stock warehouse).\n",
    "- The formula for Value_per_Weight is:\n",
    "\n",
    "#### <center> $\\text{Value_per_Weight} = \\frac{\\text{Total_Value}_{product}}{\\text{Total_Weight}_{product}} - \\text{Distance} \\times \\text{Transportation_Cost}$\n",
    "\n",
    "- Transportation_Cost: The transportation cost is 0.012 per distance unit.\n",
    "\n",
    "- For each product, sort the Helper warehouses by the Value_per_Weight in descending order.\n",
    "- Select the top 3 Helper warehouses with the highest Value_per_Weight for each product.\n"
   ]
  },
  {
   "cell_type": "code",
   "execution_count": 4,
   "id": "057ab519",
   "metadata": {},
   "outputs": [],
   "source": [
    "# Write your code here\n",
    "\n",
    "\n"
   ]
  },
  {
   "cell_type": "markdown",
   "id": "334d7557",
   "metadata": {},
   "source": [
    "\n",
    "### Step 4: Output the Results\n",
    "\n",
    "- Output the top 3 Helper warehouses for each product, along with their calculated **Value_per_Weight**.\n",
    "- Ensure the results for Product A, B, and C are displayed separately."
   ]
  },
  {
   "cell_type": "code",
   "execution_count": null,
   "id": "6875b699",
   "metadata": {},
   "outputs": [],
   "source": [
    "# Write your code here\n",
    "\n",
    "\n",
    "\n"
   ]
  },
  {
   "cell_type": "markdown",
   "id": "06387c10",
   "metadata": {},
   "source": [
    "#### Note: Due to random assignment of No.p warehouse, it's acceptable if your recommended solution changes each time you re-run the code. "
   ]
  },
  {
   "cell_type": "markdown",
   "id": "196bd9a2",
   "metadata": {},
   "source": [
    "#### Submision Requirement: Please submit all files (Distances.csv, and Fall24_Mid_Amazon.ipynb files) as one zip file on Canvas. Please add IDs on the name of zip file. For example, 14325_34672_12345.zip."
   ]
  }
 ],
 "metadata": {
  "kernelspec": {
   "display_name": "Python 3 (ipykernel)",
   "language": "python",
   "name": "python3"
  },
  "language_info": {
   "codemirror_mode": {
    "name": "ipython",
    "version": 3
   },
   "file_extension": ".py",
   "mimetype": "text/x-python",
   "name": "python",
   "nbconvert_exporter": "python",
   "pygments_lexer": "ipython3",
   "version": "3.11.5"
  }
 },
 "nbformat": 4,
 "nbformat_minor": 5
}
